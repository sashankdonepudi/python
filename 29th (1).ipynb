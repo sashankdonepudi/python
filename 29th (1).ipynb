{
 "cells": [
  {
   "cell_type": "code",
   "execution_count": null,
   "metadata": {},
   "outputs": [],
   "source": [
    "\n",
    "\n",
    "import pandas as pd\n",
    " \n",
    "# intialise data of lists.\n",
    "data = {'Name':['Tom', 'nick', 'krish', 'jack'],\n",
    "        'Age':[20, 21, 19, 18]}\n",
    " \n",
    "# Create DataFrame\n",
    "df = pd.DataFrame(data)\n",
    " \n",
    "# Print the output.\n",
    "print(df)"
   ]
  },
  {
   "cell_type": "code",
   "execution_count": null,
   "metadata": {},
   "outputs": [],
   "source": [
    "import numpy as np\n",
    "a1=pd.Series([1,2,3,4,np.nan,6])\n",
    "print(a1)"
   ]
  },
  {
   "cell_type": "code",
   "execution_count": null,
   "metadata": {},
   "outputs": [],
   "source": [
    "dates=pd.date_range('20190601',periods=20)\n",
    "print(dates)"
   ]
  },
  {
   "cell_type": "code",
   "execution_count": null,
   "metadata": {},
   "outputs": [],
   "source": [
    "import pandas as pd\n",
    "a=pd.Series([1,3,4,5,6,7])\n",
    "print(a)"
   ]
  },
  {
   "cell_type": "code",
   "execution_count": null,
   "metadata": {},
   "outputs": [],
   "source": [
    "import turtle as tt\n",
    "tt.Turtle()\n",
    "tt.forward(100)\n",
    "tt.done()"
   ]
  },
  {
   "cell_type": "code",
   "execution_count": null,
   "metadata": {},
   "outputs": [],
   "source": [
    "#drawing a square\n",
    "import turtle as tt\n",
    "a1=tt.Turtle()\n",
    "a1.forward(150)\n",
    "a1.right(90)\n",
    "\n",
    "\n",
    "a1.forward(150)\n",
    "a1.right(90)\n",
    "\n",
    "\n",
    "a1.forward(150)\n",
    "a1.right(90)\n",
    "\n",
    "\n",
    "a1.forward(150)\n",
    "a1.right(90)\n",
    "\n",
    "tt.done()"
   ]
  },
  {
   "cell_type": "code",
   "execution_count": null,
   "metadata": {},
   "outputs": [],
   "source": [
    "import turtle as tt\n",
    "\n",
    "a1=tt.turtle()\n",
    "\n",
    "for i in range(40):\n",
    "    a1.forward(i*10)\n",
    "    a1.right(144)\n",
    "tt.done()    "
   ]
  },
  {
   "cell_type": "code",
   "execution_count": null,
   "metadata": {},
   "outputs": [],
   "source": [
    "import turtle as tt\n",
    "a1=tt.Turtle()\n",
    "a1.pencolor(\"pink\")\n",
    "\n",
    "for i in range(50):\n",
    "    a1.forward(50)\n",
    "    a1.left(123)\n",
    "\n",
    "a1.pencolor(\"blue\")\n",
    "for i in range(50):\n",
    "    a1.forward(100)\n",
    "    a1.left(123)\n",
    "\n",
    "tt.done()"
   ]
  }
 ],
 "metadata": {
  "kernelspec": {
   "display_name": "Python 3",
   "language": "python",
   "name": "python3"
  },
  "language_info": {
   "codemirror_mode": {
    "name": "ipython",
    "version": 3
   },
   "file_extension": ".py",
   "mimetype": "text/x-python",
   "name": "python",
   "nbconvert_exporter": "python",
   "pygments_lexer": "ipython3",
   "version": "3.7.3"
  }
 },
 "nbformat": 4,
 "nbformat_minor": 2
}
