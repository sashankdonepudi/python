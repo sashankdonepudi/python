{
 "cells": [
  {
   "cell_type": "code",
   "execution_count": null,
   "metadata": {},
   "outputs": [],
   "source": [
    "n=int(input(\"enter arr size \"))\n",
    "arr=[]\n",
    "for i in range(n):\n",
    "    element=int(input(\"enter arr elements\"))\n",
    "    arr.append(element)\n",
    "low=0\n",
    "high=n-1\n",
    "key=int(input(\"enter key\"))\n",
    "while(low<=high):\n",
    "    mid=(low+high)//2\n",
    "    if(key==arr[mid]):\n",
    "        print(\"key is found\")\n",
    "        break\n",
    "    elif(key<arr[mid]):\n",
    "        high=mid-1\n",
    "    elif(key>arr[mid]):\n",
    "        low=mid+1\n",
    "    else:\n",
    "        print(\"key not found\")\n",
    "        break\n",
    "    \n"
   ]
  },
  {
   "cell_type": "code",
   "execution_count": null,
   "metadata": {},
   "outputs": [],
   "source": [
    "n=int(input(\"enter arr size \"))\n",
    "arr=[]\n",
    "for i in range(n):\n",
    "    element=int(input(\"enter arr elements\"))\n",
    "    arr.append(element)\n",
    "for i in range(n-1):\n",
    "    for j in range(n-1):\n",
    "      \n",
    "      \n",
    "                  \n",
    "        if(arr[j]>arr[j+1]):\n",
    "            temp=arr[j]\n",
    "            arr[j]=arr[j+1]\n",
    "            arr[j+1]=temp\n",
    "print(arr)\n"
   ]
  }
 ],
 "metadata": {
  "kernelspec": {
   "display_name": "Python 3",
   "language": "python",
   "name": "python3"
  },
  "language_info": {
   "codemirror_mode": {
    "name": "ipython",
    "version": 3
   },
   "file_extension": ".py",
   "mimetype": "text/x-python",
   "name": "python",
   "nbconvert_exporter": "python",
   "pygments_lexer": "ipython3",
   "version": "3.7.3"
  }
 },
 "nbformat": 4,
 "nbformat_minor": 2
}
