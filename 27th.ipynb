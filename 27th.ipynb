{
 "cells": [
  {
   "cell_type": "markdown",
   "metadata": {},
   "source": [
    "# example 1\n",
    "create a file"
   ]
  },
  {
   "cell_type": "code",
   "execution_count": 4,
   "metadata": {},
   "outputs": [
    {
     "name": "stdout",
     "output_type": "stream",
     "text": [
      "file is created succesfully and data is stored in it \n"
     ]
    }
   ],
   "source": [
    "def createfile(filename):\n",
    "    f=open(filename,\"w\")\n",
    "    for i in range(10):\n",
    "        f.write(\"this is %d line\\n\"%i)\n",
    "    print(\"file is created succesfully and data is stored in it \")\n",
    "    f.close()\n",
    "    return\n",
    "createfile(\"file.txt\")"
   ]
  },
  {
   "cell_type": "markdown",
   "metadata": {},
   "source": [
    "# example 2"
   ]
  },
  {
   "cell_type": "code",
   "execution_count": 7,
   "metadata": {},
   "outputs": [
    {
     "name": "stdout",
     "output_type": "stream",
     "text": [
      "this is 0 line\n",
      "this is 1 line\n",
      "this is 2 line\n",
      "this is 3 line\n",
      "this is 4 line\n",
      "this is 5 line\n",
      "this is 6 line\n",
      "this is 7 line\n",
      "this is 8 line\n",
      "this is 9 line\n",
      "\n"
     ]
    }
   ],
   "source": [
    "def readfile(filename):\n",
    "    f=open(filename,\"r\")\n",
    "    if f.mode==\"r\":\n",
    "        x=f.read()\n",
    "        print(x)\n",
    "    f.close()\n",
    "    return\n",
    "readfile(\"file.txt\")\n"
   ]
  },
  {
   "cell_type": "markdown",
   "metadata": {},
   "source": [
    "# example 3"
   ]
  },
  {
   "cell_type": "code",
   "execution_count": 10,
   "metadata": {},
   "outputs": [],
   "source": [
    "# data to append\n",
    "# function to append the data to existing file \n",
    "def appenddata(filename):\n",
    "    f=open(filename,\"a\")\n",
    "    f.write(\"new line 1\\n\")\n",
    "    f.write(\"new line 2\\n\")\n",
    "    f.close()\n",
    "    return\n",
    "appenddata(\"file.txt\")\n",
    "        \n",
    "    \n",
    "    "
   ]
  },
  {
   "cell_type": "code",
   "execution_count": 15,
   "metadata": {},
   "outputs": [
    {
     "name": "stdout",
     "output_type": "stream",
     "text": [
      " Volume in drive C has no label.\n",
      " Volume Serial Number is BC43-1BB9\n",
      "\n",
      " Directory of C:\\Users\\mpilab\n",
      "\n",
      "27-06-2019  11:58    <DIR>          .\n",
      "27-06-2019  11:58    <DIR>          ..\n",
      "13-06-2019  16:06    <DIR>          .anaconda\n",
      "19-06-2019  17:07               238 .bash_history\n",
      "27-06-2019  11:59    <DIR>          .conda\n",
      "27-06-2019  09:50                43 .condarc\n",
      "27-06-2019  09:50    <DIR>          .ipynb_checkpoints\n",
      "13-06-2019  16:10    <DIR>          .ipython\n",
      "15-06-2019  11:42    <DIR>          .jupyter\n",
      "27-07-2018  10:27    <DIR>          .mozilla\n",
      "27-07-2018  10:27    <DIR>          .swt\n",
      "27-07-2018  10:27    <DIR>          .vivado_hls\n",
      "21-06-2019  16:41             2,345 21st.ipynb\n",
      "22-06-2019  15:41             4,369 22nd.ipynb\n",
      "24-06-2019  14:12             6,140 24th.ipynb\n",
      "25-06-2019  15:29             1,759 25th.ipynb\n",
      "26-06-2019  14:48             4,694 26th.ipynb\n",
      "27-06-2019  11:58             5,780 27th.ipynb\n",
      "13-06-2019  15:57    <DIR>          Anaconda3\n",
      "20-06-2018  11:52    <DIR>          Contacts\n",
      "25-06-2019  16:32    <DIR>          Desktop\n",
      "20-06-2019  09:31    <DIR>          Documents\n",
      "27-06-2019  09:53    <DIR>          Downloads\n",
      "20-06-2018  11:52    <DIR>          Favorites\n",
      "27-06-2019  10:56               208 file.txt\n",
      "19-06-2019  12:52    <DIR>          gitam-june-2019\n",
      "20-06-2018  11:52    <DIR>          Links\n",
      "20-06-2018  11:52    <DIR>          Music\n",
      "20-06-2018  11:52    <DIR>          Pictures\n",
      "20-06-2018  11:52    <DIR>          Saved Games\n",
      "26-09-2018  10:12    <DIR>          Searches\n",
      "16-08-2018  14:59            89,925 shefali.jpg\n",
      "27-07-2018  10:27           430,080 swt-win32-3735.dll\n",
      "13-06-2019  16:10               732 Untitled.ipynb\n",
      "20-06-2018  11:52    <DIR>          Videos\n",
      "10-07-2018  15:05    <DIR>          Xilinx\n",
      "              12 File(s)        546,313 bytes\n",
      "              24 Dir(s)  118,813,310,976 bytes free\n"
     ]
    }
   ],
   "source": [
    "ls"
   ]
  },
  {
   "cell_type": "code",
   "execution_count": null,
   "metadata": {},
   "outputs": [],
   "source": [
    "def dataanalysiscount(filename,world):\n",
    "    "
   ]
  },
  {
   "cell_type": "code",
   "execution_count": 17,
   "metadata": {},
   "outputs": [
    {
     "name": "stdout",
     "output_type": "stream",
     "text": [
      "194\n"
     ]
    }
   ],
   "source": [
    "def countchar(filename):\n",
    "    f=open(filename,\"r\")\n",
    "    if f.mode==\"r\":\n",
    "        x=f.read()\n",
    "        lst=list(x)\n",
    "    return len(lst)\n",
    "print(countchar(\"file.txt\"))"
   ]
  },
  {
   "cell_type": "code",
   "execution_count": 20,
   "metadata": {},
   "outputs": [
    {
     "data": {
      "text/plain": [
       "128"
      ]
     },
     "execution_count": 20,
     "metadata": {},
     "output_type": "execute_result"
    }
   ],
   "source": [
    "def lowercasecount(filename):\n",
    "    cntlower=0\n",
    "    f=open(filename,\"r\")\n",
    "    if f.mode==\"r\":\n",
    "        x=f.read()\n",
    "        lst=list(x)\n",
    "    for i in lst:\n",
    "        if i.islower():\n",
    "            cntlower+=1\n",
    "    return cntlower\n",
    "lowercasecount(\"file.txt\")"
   ]
  },
  {
   "cell_type": "code",
   "execution_count": 18,
   "metadata": {},
   "outputs": [
    {
     "data": {
      "text/plain": [
       "0"
      ]
     },
     "execution_count": 18,
     "metadata": {},
     "output_type": "execute_result"
    }
   ],
   "source": [
    "def uppercasecount(filename):\n",
    "    cntupper=0\n",
    "    f=open(filename,\"r\")\n",
    "    if f.mode==\"r\":\n",
    "        x=f.read()\n",
    "        lst=list(x)\n",
    "    for i in lst:\n",
    "        if i.isupper():\n",
    "            cntupper+=1\n",
    "    return cntupper\n",
    "uppercasecount(\"file.txt\")"
   ]
  },
  {
   "cell_type": "code",
   "execution_count": 21,
   "metadata": {},
   "outputs": [
    {
     "data": {
      "text/plain": [
       "15"
      ]
     },
     "execution_count": 21,
     "metadata": {},
     "output_type": "execute_result"
    }
   ],
   "source": [
    "def countlines(filename):\n",
    "    f=open(filename,\"r\")\n",
    "    if f.mode==\"r\":\n",
    "        x=f.read()\n",
    "        lst=x.split(\"\\n\")\n",
    "    return len(lst)\n",
    "countlines(\"file.txt\")"
   ]
  },
  {
   "cell_type": "markdown",
   "metadata": {},
   "source": [
    "# Regular expressions\n",
    "1. Pattern Matching.\n",
    "2. Symbol Notation of a pattern\n",
    "    - Pattern(RE) represents the set of the values that are given in pattern.\n",
    "3. [0-9] --> Any digit.\n",
    "4. [a-z] --> Any lower case characters.\n",
    "5. [2468] --> All single digit multiples of 2.\n",
    "6. [A-Z] --> Any upper case characters.\n",
    "7. ^[0-9]{1}$ --> Only single digit number.\n",
    "    - ^ symbol is used for start of regular expressions.\n",
    "    \n",
    "    - $ symbol is used to end the regular expression.\n",
    "    \n",
    "8. ^[0-9]{3}$ --> Regular expression will accept only 3 digit number.\n",
    "\n",
    "9. ^[a-z]{5}$ --> It only accepts 5 character string that too lower case characters.\n",
    "\n",
    "10. ^[a-zA-z]{6}$ --> A string can be of upper/lower case characters and length of 6.\n",
    "\n",
    "11. ^[a-zA-z]{6-15}$ --> A string min of 6 characters and max of 15 characters(upper case and lower case).\n",
    "\n",
    "12. ^[a-zA-z0-9]{6-15}$ --> Upper, lower and Digits.\n",
    "\n",
    "13. ^[6-9][0-9]{9} --> RE for indian mobile number.\n",
    "\n",
    "14. [+][9][1][6-9][0-9]{9}$ --> RE for indian mobile number.\n",
    "\n",
    "15. ^[0][6-9][0-9]{9}$ --> RE for indian mobile number.\n"
   ]
  },
  {
   "cell_type": "markdown",
   "metadata": {},
   "source": [
    "# regular expression for indian mobile number\n",
    "# validation for EmailID Username@DomainName.extension\n",
    "\n",
    "# 987654321 -- First digit [6-9][0-9]\n",
    "#09876543210 -- First digit zero second digit[6-9] last 9 digits[0-9]\n",
    "#+919876543210 -- First + sign, second digit 9, third digit 1,\n",
    "                  # Fourth digit [6-9] rest of 9 digit [0-9]\n"
   ]
  },
  {
   "cell_type": "code",
   "execution_count": 24,
   "metadata": {},
   "outputs": [
    {
     "name": "stdout",
     "output_type": "stream",
     "text": [
      "True\n",
      "False\n"
     ]
    }
   ],
   "source": [
    "\n",
    "\n",
    "\n",
    "\n",
    "import re\n",
    "def phonenumbervalidate(phone):\n",
    "    pattern='^[6-9][0-9]{9}$'\n",
    "    phone=str(phone)\n",
    "    if re.match(pattern,phone):\n",
    "        return True\n",
    "    return False\n",
    "print(phonenumbervalidate(9876543210))\n",
    "print(phonenumbervalidate(986646935))"
   ]
  },
  {
   "cell_type": "code",
   "execution_count": 26,
   "metadata": {},
   "outputs": [
    {
     "name": "stdout",
     "output_type": "stream",
     "text": [
      "True\n",
      "False\n",
      "False\n"
     ]
    }
   ],
   "source": [
    "import re\n",
    "def phonenumbervalidate(phone):\n",
    "    pattern='^[6-9][0-9]{9}$|^[0][6-9][0-9]{9}$|[+][9][1][6-9][0-9]{9}$'\n",
    "    phone=str(phone)\n",
    "    if re.match(pattern,phone):\n",
    "        return True\n",
    "    return False\n",
    "print(phonenumbervalidate(9966338855))\n",
    "print(phonenumbervalidate(99668855))\n",
    "print(phonenumbervalidate(+919254783014))"
   ]
  },
  {
   "cell_type": "code",
   "execution_count": 28,
   "metadata": {},
   "outputs": [
    {
     "name": "stdout",
     "output_type": "stream",
     "text": [
      "True\n",
      "False\n"
     ]
    }
   ],
   "source": [
    "import re\n",
    "def validaterollnumber(number):\n",
    "    number=str(number)\n",
    "    pattern=\"^[1][5][2][U][1][A][0][1-9][0-6][0-9]$\"\n",
    "    if re.match(pattern,number):\n",
    "        return True\n",
    "    return False\n",
    "print(validaterollnumber(\"152U1A0555\"))\n",
    "print(validaterollnumber(\"152U1A0485\"))\n"
   ]
  },
  {
   "cell_type": "code",
   "execution_count": null,
   "metadata": {},
   "outputs": [],
   "source": []
  }
 ],
 "metadata": {
  "kernelspec": {
   "display_name": "Python 3",
   "language": "python",
   "name": "python3"
  },
  "language_info": {
   "codemirror_mode": {
    "name": "ipython",
    "version": 3
   },
   "file_extension": ".py",
   "mimetype": "text/x-python",
   "name": "python",
   "nbconvert_exporter": "python",
   "pygments_lexer": "ipython3",
   "version": "3.7.3"
  }
 },
 "nbformat": 4,
 "nbformat_minor": 2
}
