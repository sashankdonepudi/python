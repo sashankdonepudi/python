{
 "cells": [
  {
   "cell_type": "markdown",
   "metadata": {},
   "source": [
    "## Example 1:\n",
    "Fibonacci series."
   ]
  },
  {
   "cell_type": "code",
   "execution_count": null,
   "metadata": {},
   "outputs": [],
   "source": [
    "\n",
    "def fbnc(x1,x2,n,i):\n",
    "    \n",
    "    \n",
    "    sum=x1+x2\n",
    "    i=i+1\n",
    "    if(i==n):\n",
    "        return sum\n",
    "    else:\n",
    "        \n",
    "        return fbnc(x2,sum,n,i)\n",
    "\n",
    "\n",
    "fbnc(0,1,10,0)"
   ]
  },
  {
   "cell_type": "markdown",
   "metadata": {},
   "source": [
    "## Example 2:"
   ]
  },
  {
   "cell_type": "code",
   "execution_count": null,
   "metadata": {},
   "outputs": [],
   "source": [
    "def sk(x1,x2):\n",
    "\n",
    "    if(x1==x2):\n",
    "        return x1*x1\n",
    "    else:\n",
    "        return  x1*x2\n",
    "sk(10,10)    "
   ]
  },
  {
   "cell_type": "markdown",
   "metadata": {},
   "source": [
    "## Example 3:"
   ]
  },
  {
   "cell_type": "code",
   "execution_count": null,
   "metadata": {},
   "outputs": [],
   "source": [
    "x=10\n",
    "if(x>0):\n",
    "    print(\"possitive\")\n",
    "elif(x<0):\n",
    "    print(\"negative\")\n",
    "elif(x==0):\n",
    "    print(\"zero\")\n",
    "    \n",
    "    "
   ]
  },
  {
   "cell_type": "code",
   "execution_count": null,
   "metadata": {},
   "outputs": [],
   "source": [
    "x1=int(input(\"enter lower limit \"));\n",
    "x2=int(input(\"enter upper limit\"));\n",
    "sum=0\n",
    "while(x1!=x2):\n",
    "        sum=sum+x1\n",
    "        x1=x1+2\n",
    "\n",
    "print(sum)"
   ]
  },
  {
   "cell_type": "code",
   "execution_count": null,
   "metadata": {},
   "outputs": [],
   "source": [
    "x=int(input(\"read a long integer \"));\n",
    "sum=0\n",
    "while(x!=0):\n",
    "    n=x%10\n",
    "    \n",
    "    if(n%2==0):\n",
    "        sum=sum+n\n",
    "    x=x//10\n",
    "print(sum)    \n",
    "    \n"
   ]
  },
  {
   "cell_type": "code",
   "execution_count": null,
   "metadata": {},
   "outputs": [],
   "source": [
    "x=int(input(\"read a long integer \"));\n",
    "while(x!=0):\n",
    "               \n",
    "        n=x%10\n",
    "        x=x//10\n",
    "\n",
    "        \n",
    "        if(n==1):\n",
    "            print(\"one\")\n",
    "        if(n==2):\n",
    "            print(\"two\")\n",
    "        if(n==3):\n",
    "            print(\"three\")\n",
    "        if(n==4):\n",
    "            print(\"four\")\n",
    "        if(n==5):\n",
    "            print(\"five\")\n",
    "        if(n==6):\n",
    "            print(\"six\")\n",
    "        if(n==7):\n",
    "            print(\"seven\")\n",
    "        if(n==8):\n",
    "            print(\"eight\")\n",
    "        if(n==9):\n",
    "            printf(\"nine\")\n",
    "        \n",
    "        \n",
    "        \n",
    "    \n",
    "        \n",
    "    \n",
    "    "
   ]
  },
  {
   "cell_type": "code",
   "execution_count": null,
   "metadata": {},
   "outputs": [],
   "source": [
    "n=int(input(\"enter single digit number \"));\n",
    "x1=int(input(\"enter lower limit\"));\n",
    "x2=int(input(\"enter upper limit\"));\n",
    "k=x1\n",
    "count=0\n",
    "while(k<x2):\n",
    "    while(x1!=0):\n",
    "        r=x1%10\n",
    "        if(n==r):\n",
    "            count=count+1\n",
    "        x1=x1//10\n",
    "    k=k+1\n",
    "    x1=k\n",
    "print(count)    \n",
    "    \n",
    "    "
   ]
  },
  {
   "cell_type": "code",
   "execution_count": null,
   "metadata": {},
   "outputs": [],
   "source": [
    "def naturalno(c):\n",
    "    n=10\n",
    "    if(c<=n):\n",
    "        print(c)\n",
    "        return naturalno(c+1);\n",
    "naturalno(1)    \n",
    "    \n",
    "   \n"
   ]
  },
  {
   "cell_type": "code",
   "execution_count": null,
   "metadata": {},
   "outputs": [],
   "source": []
  }
 ],
 "metadata": {
  "kernelspec": {
   "display_name": "Python 3",
   "language": "python",
   "name": "python3"
  },
  "language_info": {
   "codemirror_mode": {
    "name": "ipython",
    "version": 3
   },
   "file_extension": ".py",
   "mimetype": "text/x-python",
   "name": "python",
   "nbconvert_exporter": "python",
   "pygments_lexer": "ipython3",
   "version": "3.7.3"
  }
 },
 "nbformat": 4,
 "nbformat_minor": 2
}
